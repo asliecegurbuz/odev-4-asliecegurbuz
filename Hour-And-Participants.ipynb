{
 "cells": [
  {
   "cell_type": "code",
   "execution_count": null,
   "metadata": {},
   "outputs": [],
   "source": [
    "\n",
    "\n",
    "import pandas as pd \n",
    "import numpy as np \n",
    "\n",
    "df = pd.read_excel('attendee2.xlsx')\n",
    "\n",
    "\n",
    "df = df.drop([0], axis = 0)\n",
    "df\n",
    "df[['Month', 'Day', 'Year', 'JoinT']] = df['Join Time'].str.split(' ', expand=True)\n",
    "\n",
    "\n",
    "idx = pd.Series(\n",
    "    pd.date_range(\"2022-05-26 12:56:00\", periods=290, freq=\"T\")\n",
    ")\n",
    "df2 = {}\n",
    "df1 = pd.DataFrame(index=idx, columns= [\"katilimcilar\"])\n",
    "df1[\"katilimcilar\"] = 0\n",
    "\n",
    "def dummy(user, time, joint):\n",
    "    date = \"2022-05-26 \"\n",
    "    ti = list(joint)\n",
    "    ti[6] = \"0\"\n",
    "    ti[7] = \"0\"\n",
    "    t = \"\".join(ti)\n",
    "    indext = df1.index.get_loc(date + t)\n",
    "    for i in range(indext, indext+int(time)+1):\n",
    "        df1.iloc[i] += 1\n",
    "      \n",
    "        \n",
    "for i in range(len(df)):\n",
    "    user = df.iloc[i][\"Email\"]\n",
    "    time = df.iloc[i][\"Time in Session (minutes)\"]\n",
    "    joint = df.iloc[i][\"JoinT\"]\n",
    "    dummy(user, time, joint)\n",
    " \n",
    "\n",
    "\n",
    "\n",
    "##df1 = pd.Interval(pd.Timestamp('12:56:00'),\n",
    "  ##                      pd.Timestamp('16:30:00'),\n",
    "  ##                    closed='left')\n",
    "##df"
   ]
  },
  {
   "cell_type": "code",
   "execution_count": null,
   "metadata": {},
   "outputs": [],
   "source": [
    "session = []\n",
    "for row in df['JoinT']:\n",
    "    if (df[\"JoinT\"].between(\"13:30:00\", \"13:35:00\").any() == True):\n",
    "        session.append('Serdar Kuzuloğlu')\n",
    "    elif (df[\"JoinT\"].between(\"13:35:00\", \"13:45:00\").any() == True):\n",
    "        session.append('Hayriye Karadeniz (Digital Products and Services Lideri')\n",
    "    else:         \n",
    "        session.append('Not_Rated')"
   ]
  },
  {
   "cell_type": "code",
   "execution_count": null,
   "metadata": {},
   "outputs": [],
   "source": [
    "df1"
   ]
  },
  {
   "cell_type": "code",
   "execution_count": null,
   "metadata": {},
   "outputs": [],
   "source": [
    "\"\"\"\n",
    "df1['katilimcilar'] = df1['katilimcilar'].astype(str).str.replace('-', '.')\n",
    "df1[['Day','Hour']]=df1.katilimcilar.str.split(' ',expand=True)\n",
    "\"\"\""
   ]
  },
  {
   "cell_type": "code",
   "execution_count": null,
   "metadata": {},
   "outputs": [
    {
     "ename": "",
     "evalue": "",
     "output_type": "error",
     "traceback": [
      "\u001b[1;31mRunning cells with 'Python 3.8.2 64-bit' requires ipykernel package.\n",
      "Run the following command to install 'ipykernel' into the Python environment. \n",
      "Command: '/usr/bin/python3 -m pip install ipykernel -U --user --force-reinstall'"
     ]
    }
   ],
   "source": [
    "session = []\n",
    "for row in df1['saat']:\n",
    "    if \"2022-05-26 13:30:00\" < row < \"2022-05-26 13:35:00\" :   \n",
    "        session.append('Serdar Kuzuloğlu')\n",
    "    elif 2022-05-26 13:35:00 < row < 2022-05-26 13:45:00 :\n",
    "        session.append('Hayriye Karadeniz (Digital Products and Services Lideri)-Hayriye Karadeniz')\n",
    "    elif 2022-05-26 13:45:00 < row < 2022-05-26 13:55:00:\n",
    "        session.append('Alev Kılıç Özdemir (Data & Otomasyon Tribe Lideri)')\n",
    "        \n",
    "    else:         \n",
    "        session.append('Not_Rated')"
   ]
  },
  {
   "cell_type": "code",
   "execution_count": null,
   "metadata": {},
   "outputs": [],
   "source": [
    "import pandas as pd \n",
    "import numpy as np \n",
    "\n",
    "dfdate = pd.read_excel('df1-before.xlsx')"
   ]
  },
  {
   "cell_type": "code",
   "execution_count": null,
   "metadata": {},
   "outputs": [],
   "source": [
    "dfdate"
   ]
  },
  {
   "cell_type": "code",
   "execution_count": null,
   "metadata": {},
   "outputs": [],
   "source": [
    "dfdate['dakika'] = dfdate['saat'].dt.time"
   ]
  },
  {
   "cell_type": "code",
   "execution_count": null,
   "metadata": {},
   "outputs": [],
   "source": [
    "dfdate"
   ]
  },
  {
   "cell_type": "code",
   "execution_count": null,
   "metadata": {},
   "outputs": [],
   "source": [
    "dfdate.to_excel(\"df_date.xlsx\")"
   ]
  },
  {
   "cell_type": "code",
   "execution_count": null,
   "metadata": {},
   "outputs": [],
   "source": [
    "dfdate = dfdate.set_index('saat')\n",
    "deneme = dfdate.between_time('13:30:00','14:20:00')\n",
    "deneme"
   ]
  },
  {
   "cell_type": "code",
   "execution_count": null,
   "metadata": {},
   "outputs": [],
   "source": [
    "def panel(row):\n",
    "    if (row[\"dakika\"].dt.time >= pd.to_datetime(\"13:30:00\").time())&(row[\"dakika\"].dt.time <= pd.to_datetime(\"14:20:00\").time()):\n",
    "        panel=\"1.Panel- Liderlerin Konuşması\"\n",
    "    elif (row[\"dakika\"].dt.time >= pd.to_datetime(\"14:35:00\").time())&(row[\"dakika\"].dt.time <= pd.to_datetime(\"15:00:00\").time()):\n",
    "        panel=\"2.Panel- İş Alanları\"\n",
    "    elif (row[\"dakika\"].dt.time >= pd.to_datetime(\"15:10:00\").time())&(row[\"dakika\"].dt.time <= pd.to_datetime(\"15:55:00\").time()):\n",
    "        panel=\"3.Panel- Teknoloji Liderleri ile Buluşma\"\n",
    "    else:\n",
    "        panel=\"Mola/Bitiş\"\n",
    "\n",
    "dfdate[\"panel\"]=dfdate.apply(lambda row:panel(row),axis=1)\n",
    "\n",
    "\n",
    "\"\"\"\n",
    "panel = []\n",
    "dfdate = dfdate.set_index('dakika')\n",
    "for row in dfdate['katilimcilar']:\n",
    "    if dfdate.between_time('13:30:00','14:20:00') :   \n",
    "        panel.append('1.Panel- Liderlerin Konuşması')\n",
    "    elif dfdate.between_time('14:35:00','15:00:00') :   \n",
    "        panel.append('2.Panel- İş Alanları')\n",
    "    elif dfdate.between_time('15:10:00','15:55:00'):   \n",
    "        panel.append('3.Panel- Teknoloji Liderleri ile Buluşma')\n",
    "    else:\n",
    "        panel.append('Mola-Bitiş')\"\"\""
   ]
  },
  {
   "cell_type": "code",
   "execution_count": null,
   "metadata": {},
   "outputs": [],
   "source": []
  }
 ],
 "metadata": {
  "kernelspec": {
   "display_name": "Python 3.8.2 64-bit",
   "language": "python",
   "name": "python3"
  },
  "language_info": {
   "name": "python",
   "version": "3.8.2"
  },
  "orig_nbformat": 4,
  "vscode": {
   "interpreter": {
    "hash": "31f2aee4e71d21fbe5cf8b01ff0e069b9275f58929596ceb00d14d90e3e16cd6"
   }
  }
 },
 "nbformat": 4,
 "nbformat_minor": 2
}
